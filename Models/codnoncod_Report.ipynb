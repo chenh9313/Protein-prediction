{
 "cells": [
  {
   "cell_type": "code",
   "execution_count": null,
   "metadata": {},
   "outputs": [],
   "source": [
    "\"\"\"This is Part4: Get the information of dN/ds of non_coding and coding area.\"\"\"\n",
    "\n",
    "def cod_noncod(number, seq1, seq2):\n",
    "    \"\"\"Return the value of dn and ds in the target gene.\"\"\"\n",
    "    n_end = number\n",
    "    m_start = 0\n",
    "    non_x1 = seq1[m_start:n_end]\n",
    "    non_x2 = seq2[m_start:n_end]\n",
    "    non_sum_dn = 0\n",
    "    non_sum_ds = 0\n",
    "    non_total_dn = len(non_x1)/3*2\n",
    "    non_total_ds = len(non_x1)/3\n",
    "    for i in range(0,len(non_x1),3):\n",
    "        a_seq = non_x1[i:i+3]\n",
    "        b_seq = non_x2[i:i+3]\n",
    "        non_dn = 0\n",
    "        non_ds = 0\n",
    "        if a_seq[0] != b_seq[0]:\n",
    "            non_dn = non_dn + 1\n",
    "        if a_seq[1] != b_seq[1]:\n",
    "            non_dn = non_dn + 1\n",
    "            non_sum_dn = non_sum_dn + non_dn\n",
    "        if a_seq[2] != b_seq[2]:\n",
    "            non_ds = non_ds + 1\n",
    "            non_sum_ds = non_sum_ds + non_ds\n",
    "    print(\"total Non-syn is:\",non_sum_dn)\n",
    "    print(\"total Syn is:\",non_sum_ds)\n",
    "    print(\"dn is:\",round((non_sum_dn/non_total_dn),2))\n",
    "    print(\"ds is:\",round((non_sum_ds/non_total_ds),2))\n",
    "    non_change = (non_sum_dn/non_total_dn)/(non_sum_ds/non_total_ds)\n",
    "    print(\"dn/ds is:\",non_change)\n",
    "    non_tag = (\"non-coding area is:\")\n",
    "    if non_change == 1:\n",
    "        print(non_tag,\"evolution neutrally\")\n",
    "    if non_change < 1:\n",
    "        print(non_tag,\"evoultion constrained\")\n",
    "    if non_change >1:\n",
    "        print(non_tag,\"evolution changing rapidly\")\n",
    "    print('\\n')\n",
    "    ##calculate the dn and ds in coding area\n",
    "    cod_x1 = seq1[n_end:len(seq1)]\n",
    "    cod_x2 = seq2[n_end:len(seq2)]\n",
    "    cod_sum_dn = 0\n",
    "    cod_sum_ds = 0\n",
    "    cod_total_dn = len(cod_x1)/3*2\n",
    "    cod_total_ds = len(cod_x1)/3\n",
    "    for i in range(0,len(cod_x1),3):\n",
    "        a_seqc = cod_x1[i:i+3]\n",
    "        b_seqc = cod_x2[i:i+3]\n",
    "        cod_dn = 0\n",
    "        cod_ds = 0\n",
    "        if a_seqc[0] != b_seqc[0]:\n",
    "            cod_dn = cod_dn + 1\n",
    "        if a_seqc[1] != b_seqc[1]:\n",
    "            cod_dn = cod_dn + 1\n",
    "            cod_sum_dn = cod_sum_dn + cod_dn\n",
    "        if a_seqc[2] != b_seqc[2]:\n",
    "            cod_ds = cod_ds + 1\n",
    "            cod_sum_ds = cod_sum_ds + cod_ds\n",
    "    print(\"total Non-syn is:\",cod_sum_dn)\n",
    "    print(\"total Syn is:\",cod_sum_ds)\n",
    "    print(\"dn is:\",round((cod_sum_dn/cod_total_dn),2))\n",
    "    print(\"ds is:\",round((cod_sum_ds/cod_total_ds),2))\n",
    "    cod_change = (cod_sum_dn/cod_total_dn)/(cod_sum_ds/cod_total_ds)\n",
    "    print(\"dn/ds is:\",cod_change)\n",
    "    cod_tag = (\"coding area is:\")\n",
    "    if cod_change == 1:\n",
    "        print(cod_tag,\"evolution neutrally\")\n",
    "    if cod_change < 1:\n",
    "        print(cod_tag,\"evoultion constrained\")\n",
    "    if cod_change >1:\n",
    "        print(cod_tag,\"evolution changing rapidly\")\n",
    "    return(non_change, cod_change)"
   ]
  },
  {
   "cell_type": "code",
   "execution_count": 43,
   "metadata": {},
   "outputs": [
    {
     "name": "stdout",
     "output_type": "stream",
     "text": [
      "total Non-syn is: 124\n",
      "total Syn is: 77\n",
      "dn is: 0.62\n",
      "ds is: 0.77\n",
      "dn/ds is: 0.8051948051948051\n",
      "non-coding area is: evoultion constrained\n",
      "\n",
      "\n",
      "total Non-syn is: 404\n",
      "total Syn is: 242\n",
      "dn is: 0.64\n",
      "ds is: 0.76\n",
      "dn/ds is: 0.8347107438016529\n",
      "coding area is: evoultion constrained\n"
     ]
    },
    {
     "data": {
      "text/plain": [
       "(0.8051948051948051, 0.8347107438016529)"
      ]
     },
     "execution_count": 43,
     "metadata": {},
     "output_type": "execute_result"
    }
   ],
   "source": [
    " cod_noncod(300,\\\n",
    "           \"GAAATTACGAAGAAAATAAATAAAAATACAAAAAGCAGGTTCTTCTCTATATATTCGGAATTTAGCTTCCAAATAACGCAGAAGAAAGTAAAGAGAGAAGAAGCAAAAAGAGTCATATTCGTTGAAAACATCATTCACTCTTCTCTGCGTCTCCTTCTTTCACCCGAAATTGTCTCTGACACCGTTTTGATTCAGCCATGGTGATACTACATTTTCACTTCTTCTTGTTCTCTTTTTGTTTATTTCAGTTCTTCAATTTTTAGGCTCGATTCTCGATTTTTGCTTTCGTCTCGGATTTTGAATAACGATTTTGGCTCACTAGATCTGGTATATGGATTTGTTTTCTCCGATTTAGATCTTTGAGATTTTGTGTTGATGTGATCAGAGTTAGTGATCCACTTGTGCTTCGTAAGTTAGAATCGAAATCATGAAGGAATCTGCTAATTTTGTGTGTGTGCTTTCGAAGTTTCATTAACTATTGAACGTTTCTACGACCTTATTCGATTGTTTGATCCATCAGGCTTGTTGTGTGTTGAAGTTGCAATTGAAGTCTAAATCGTTGCTAGAGATGTATTAACGAGTTTATGTGTGAGCTATTCTAGTTTTAGAGGTTTCAGGAAATTTCTAAGATTCCTAAATAAGAGATTCTTGGCTTTTAGTATTGTGTGGATTCAATTATAGGCTAGCTTTGTGGGATCTGGGATGTGAATCTTAGTGCTTCTGTTGTTTTATTGAAATCAGGCTAATGCTGCGTCAGGAATGGCAGTCCATGATGACTGCAAGCTAAGATTTCTGGAACTGAAGGCGAAAAGGACACACCGTTTCATTGTCTACAAGATTGAGGAGAAGCAGAAGCAAGTGATTGTTGAGAAAGTTGGTGAACCTATTCTAACTTACGAGGACTTTGCAGCAAGTCTTCCAGCTGACGAATGCCGATACGCCATTTATGATTTCGACTTTGTCACTGCAGAGAATTGCCAGAAGAGCAAGATTTTCTTCATTGCATGGTAACATAATTTCTTGTTATCTGCTAAAACCATGTAACCTCATTTCTCTATTCTTACCTTGTTGTTGTTGTTGTTGCTGCTGCTGCCAAAGGTGTCCCGACGTAGCAAAGGTGAGAAGCAAGATGATCTATGCGAGCTCTAAGGACAGGTTCAAGCGTGAACTTGATGGAATTCAAGTGGAGCTTCAAGCAACTGATCCAACTGAGATGGATCTTGATGTTTTGAAAAGCCGCGTCAACTAAAA\",\\\n",
    "           \"AACACCACACACAGCAAAACAAAAAGCTCTCTACACTCAAAATATAACGAAAGAACAAGAAGACATCATCTTAGCTCACTATGGCTTTGAAGACGGTAACAATATACAAACTTTCTCTATTTTTTCCACTTTTGATTTAATGAATCTAAAAGAAAATATTTTGGATGATTGGTATATAGGCGACGAGTGGTATGTGGATGACGGATGATTGCAAGAAATCGTTCATGGAGATGAAATGGAAGAAAGTGCATAGATACGTCGTTTACAAACTCGAGGAGAAGTCTCGGAAAGTCACCGTCGACAAGGTTGGTGCCGCCGGCGAGAGCTACGACGATCTCGCTGCTTCTTTGCCGGAGGATGACTGTCGTTACGCCGTGTTTGATTTCGATTACGTCACCGTCGATAACTGTCGTATGAGCAAGATCTTCTTCATAACTTGGTTAGTGTCACTATCTCTTGTCTTTTCGATTTCTCGAATTGTCGATTTTACCCTTTTCCCACCATATAGTTCTATCGTCTCACTCGATGATCATCAAAGGATAAAATGGTCATTTGGATGTCCTAAGCCCAGGCTTTTTAACCCAAGGCCGGTTTGATCAAATATAACCGTACCGAATAAAACCAATCAAGATAATTGATTCTGTTTGGTTAAAAAATGGTTTACTTTATATCTTAAGTCGAAAAACTAGTAAAACCACTGAAACTTAATCAATCCATAATGTGGTTGTTATTGGAATAGGTCGCCGGAGGCTTCAAGGATAAGGGAGAAGATGATGTACGCGACGTCGAAGAGCGGACTGAGAAGAGTGTTGGATGGTGTTCACTACGAGCTTCAAGCCACCGACCCAACCGAGATGGGATTTGATAAAATCCAGGACCGGGCCAAATGATCACAACACATAACTGGAGTTATATCGTCAGTAACTAGCTGTTCTTAACAGTTATGACTTATGAGCAGCAATTAATTATCTATTAATGTTATTTAGTGCTTAACCTCTTCCCTTTGGTTGTCAAACAAAATGATTTACTTCTATTTTGTTGACAATAGTACTAAACTATTATTAGTGTTTCAGTTTAATTGTTGTTGTTTAGTTTTTTAAAAACTATGTTGAATGTTATTTTGTCTCTTTTTGTCACTAATGCTAATAAAAAGAAAAAAGTTTTAATATGTTTGACTTGAACTGAGGCATGAGGATAAAGTTTTGATTTTTGTAAGACAGTTCAAGCAAGGCATCAGTAAATTTAAGTATC\")"
   ]
  }
 ],
 "metadata": {
  "kernelspec": {
   "display_name": "Python 3",
   "language": "python",
   "name": "python3"
  },
  "language_info": {
   "codemirror_mode": {
    "name": "ipython",
    "version": 3
   },
   "file_extension": ".py",
   "mimetype": "text/x-python",
   "name": "python",
   "nbconvert_exporter": "python",
   "pygments_lexer": "ipython3",
   "version": "3.8.5"
  }
 },
 "nbformat": 4,
 "nbformat_minor": 4
}

{
 "cells": [
  {
   "cell_type": "code",
   "execution_count": 14,
   "metadata": {},
   "outputs": [],
   "source": [
    "\"\"\"This is Part3: Get the information of gene structure from genome annotation files \"\"\"\n",
    "import pandas as pd\n",
    "\n",
    "def structure_gene(locus):\n",
    "    \"\"\"Return the gene structure information of target gene.\"\"\"\n",
    "    #Finding gene locus and return the structure information\n",
    "    url = 'https://gitlab.msu.edu/chenhua9/protein-prediction/-/raw/master/docs/files/Annotation_info.csv'\n",
    "    df_file = pd.read_csv(url, error_bad_lines=False, sep='\\t')\n",
    "    res_s = df_file[df_file['Genename'].str.match(locus)]\n",
    "    exon = len(res_s[res_s['Type'].str.match(\"exon\")])\n",
    "    print(locus,\"has\",exon,\"exon\")\n",
    "    print(res_s)"
   ]
  },
  {
   "cell_type": "code",
   "execution_count": 13,
   "metadata": {},
   "outputs": [
    {
     "name": "stdout",
     "output_type": "stream",
     "text": [
      "AT5G59890 has 4 exon\n",
      "        Type     Start       End   Genename\n",
      "173890   CDS  24122545  24122547  AT5G59890\n",
      "173891   CDS  24123089  24123354  AT5G59890\n",
      "173892   CDS  24123107  24123354  AT5G59890\n",
      "173895   CDS  24123446  24123596  AT5G59890\n",
      "505051  exon  24122348  24122547  AT5G59890\n",
      "505052  exon  24122525  24123354  AT5G59890\n",
      "505054  exon  24123089  24123354  AT5G59890\n",
      "505057  exon  24123446  24123912  AT5G59890\n",
      "698161  mRNA  24122348  24123912  AT5G59890\n",
      "698162  mRNA  24122525  24123912  AT5G59890\n",
      "698163  mRNA  24122601  24123912  AT5G59890\n"
     ]
    }
   ],
   "source": [
    "structure_gene(\"AT5G59890\")"
   ]
  },
  {
   "cell_type": "code",
   "execution_count": 15,
   "metadata": {},
   "outputs": [
    {
     "name": "stdout",
     "output_type": "stream",
     "text": [
      "AT4G34970 has 3 exon\n",
      "        Type     Start       End   Genename\n",
      "80743    CDS  16653784  16653798  AT4G34970\n",
      "80744    CDS  16653883  16654142  AT4G34970\n",
      "80750    CDS  16654443  16654593  AT4G34970\n",
      "405411  exon  16653704  16653798  AT4G34970\n",
      "405412  exon  16653883  16654142  AT4G34970\n",
      "405420  exon  16654443  16654955  AT4G34970\n",
      "684886  mRNA  16653704  16654955  AT4G34970\n"
     ]
    }
   ],
   "source": [
    "structure_gene(\"AT4G34970\")"
   ]
  }
 ],
 "metadata": {
  "kernelspec": {
   "display_name": "Python 3",
   "language": "python",
   "name": "python3"
  },
  "language_info": {
   "codemirror_mode": {
    "name": "ipython",
    "version": 3
   },
   "file_extension": ".py",
   "mimetype": "text/x-python",
   "name": "python",
   "nbconvert_exporter": "python",
   "pygments_lexer": "ipython3",
   "version": "3.8.5"
  }
 },
 "nbformat": 4,
 "nbformat_minor": 4
}
